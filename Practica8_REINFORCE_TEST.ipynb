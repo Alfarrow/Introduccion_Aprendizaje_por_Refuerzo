{
 "cells": [
  {
   "cell_type": "code",
   "execution_count": 7,
   "metadata": {},
   "outputs": [],
   "source": [
    "import gym\n",
    "import cv2\n",
    "import time\n",
    "import collections\n",
    "import numpy as np\n",
    "import torch\n",
    "import torch.nn as nn"
   ]
  },
  {
   "attachments": {},
   "cell_type": "markdown",
   "metadata": {},
   "source": [
    "Crear entorno y red neuronal"
   ]
  },
  {
   "cell_type": "code",
   "execution_count": 8,
   "metadata": {},
   "outputs": [
    {
     "data": {
      "text/plain": [
       "<All keys matched successfully>"
      ]
     },
     "execution_count": 8,
     "metadata": {},
     "output_type": "execute_result"
    }
   ],
   "source": [
    "# Crear entorno\n",
    "env = gym.make('CartPole-v1', render_mode=\"human\")\n",
    "\n",
    "# Crear red neuronal\n",
    "obs_size = env.observation_space.shape[0]   # Entrada de la red\n",
    "n_actions = env.action_space.n              # Salida de la red\n",
    "HIDDEN_SIZE = 256\n",
    "\n",
    "model = torch.nn.Sequential(\n",
    "    torch.nn.Linear(obs_size, HIDDEN_SIZE),\n",
    "    torch.nn.ReLU(),\n",
    "    torch.nn.Linear(HIDDEN_SIZE, n_actions),\n",
    "    torch.nn.Softmax(dim=0) \n",
    ")\n",
    "# Cargar los pesos de la red neuronal\n",
    "model.load_state_dict(torch.load('Practica8_REINFORCE_Net.dat'))"
   ]
  },
  {
   "cell_type": "markdown",
   "metadata": {},
   "source": [
    "Visualizar episodio con la red entrenada"
   ]
  },
  {
   "cell_type": "code",
   "execution_count": 9,
   "metadata": {},
   "outputs": [],
   "source": [
    "def watch_agent():\n",
    "  env = gym.make('CartPole-v1', render_mode=\"human\")\n",
    "  state = env.reset()[0]\n",
    "  rewards = []\n",
    "\n",
    "  for t in range(2000):\n",
    "    pred = model(torch.from_numpy(state).float())\n",
    "    action = np.random.choice(np.array([0,1]), p=pred.data.numpy()) # Observar que la red no es determinista\n",
    "\n",
    "    # img.set_data(env.render(mode='rgb_array')) \n",
    "    # plt.axis('off')\n",
    "    # display.display(plt.gcf())\n",
    "    # display.clear_output(wait=True)\n",
    "\n",
    "    state, reward, done, trunc,  _ = env.step(action)\n",
    "    rewards.append(reward)\n",
    "    if done:\n",
    "        print(\"Reward:\", sum([r for r in rewards]))\n",
    "        break \n",
    "  env.close()\n",
    "\n",
    "watch_agent()"
   ]
  }
 ],
 "metadata": {
  "kernelspec": {
   "display_name": "Python 3",
   "language": "python",
   "name": "python3"
  },
  "language_info": {
   "codemirror_mode": {
    "name": "ipython",
    "version": 3
   },
   "file_extension": ".py",
   "mimetype": "text/x-python",
   "name": "python",
   "nbconvert_exporter": "python",
   "pygments_lexer": "ipython3",
   "version": "3.8.7"
  },
  "orig_nbformat": 4
 },
 "nbformat": 4,
 "nbformat_minor": 2
}

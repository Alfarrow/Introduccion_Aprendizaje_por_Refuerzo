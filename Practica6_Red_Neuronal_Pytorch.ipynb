{
 "cells": [
  {
   "attachments": {},
   "cell_type": "markdown",
   "metadata": {},
   "source": [
    "## Red Neuronal Básica en Pytorch"
   ]
  },
  {
   "attachments": {},
   "cell_type": "markdown",
   "metadata": {},
   "source": [
    "#### Preprocesamiento y carga de los datos"
   ]
  },
  {
   "cell_type": "code",
   "execution_count": 50,
   "metadata": {},
   "outputs": [],
   "source": [
    "import numpy as np\n",
    "import matplotlib.pyplot as plt\n",
    "import torch\n",
    "import torchvision"
   ]
  },
  {
   "attachments": {},
   "cell_type": "markdown",
   "metadata": {},
   "source": [
    "##### Cargar los datos"
   ]
  },
  {
   "cell_type": "code",
   "execution_count": 51,
   "metadata": {},
   "outputs": [],
   "source": [
    "xy_train = torchvision.datasets.MNIST(root=r'C:\\Users\\USER\\Pictures\\DeepLearningDatabases', train=True, download=True, transform=torchvision.transforms.ToTensor())"
   ]
  },
  {
   "attachments": {},
   "cell_type": "markdown",
   "metadata": {},
   "source": [
    "##### Preprocesamiento"
   ]
  },
  {
   "attachments": {},
   "cell_type": "markdown",
   "metadata": {},
   "source": [
    "Hiperparámetros"
   ]
  },
  {
   "cell_type": "code",
   "execution_count": 52,
   "metadata": {},
   "outputs": [],
   "source": [
    "BATCH_SIZE = 64\n",
    "EPOCHS = 10"
   ]
  },
  {
   "attachments": {},
   "cell_type": "markdown",
   "metadata": {},
   "source": [
    "Visualizar Datos"
   ]
  },
  {
   "cell_type": "code",
   "execution_count": 53,
   "metadata": {},
   "outputs": [
    {
     "data": {
      "image/png": "[encoded data removed]",
      "text/plain": [
       "<Figure size 2500x400 with 20 Axes>"
      ]
     },
     "metadata": {},
     "output_type": "display_data"
    }
   ],
   "source": [
    "# Clase 'Dataloader' para poder iterar sobre los datos y facilitar su uso\n",
    "xy_train_loader = torch.utils.data.DataLoader(xy_train, batch_size=BATCH_SIZE, shuffle=True)\n",
    "\n",
    "fig = plt.figure(figsize=(25,4))\n",
    "\n",
    "for idx in np.arange(20):\n",
    "    image, label = xy_train_loader.dataset[idx]\n",
    "    ax = fig.add_subplot(2, 20//2, idx+1, xticks=[], yticks=[])\n",
    "    ax.imshow(torch.squeeze(image, dim=0).numpy(), cmap=plt.cm.binary)\n",
    "    ax.set_title(str(label))"
   ]
  },
  {
   "attachments": {},
   "cell_type": "markdown",
   "metadata": {},
   "source": [
    "#### Red Neuronal"
   ]
  },
  {
   "attachments": {},
   "cell_type": "markdown",
   "metadata": {},
   "source": [
    "##### Definir modelo"
   ]
  },
  {
   "attachments": {},
   "cell_type": "markdown",
   "metadata": {},
   "source": [
    "Modelo"
   ]
  },
  {
   "cell_type": "code",
   "execution_count": 54,
   "metadata": {},
   "outputs": [],
   "source": [
    "model = torch.nn.Sequential(\n",
    "    torch.nn.Linear(784,10),\n",
    "    torch.nn.Sigmoid(),\n",
    "    torch.nn.Linear(10,10),\n",
    "    torch.nn.LogSoftmax(dim=1)\n",
    ")"
   ]
  },
  {
   "attachments": {},
   "cell_type": "markdown",
   "metadata": {},
   "source": [
    "Función de pérdida"
   ]
  },
  {
   "cell_type": "code",
   "execution_count": 55,
   "metadata": {},
   "outputs": [],
   "source": [
    "# Función de pérdida que se usará\n",
    "criterion = torch.nn.NLLLoss()"
   ]
  },
  {
   "attachments": {},
   "cell_type": "markdown",
   "metadata": {},
   "source": [
    "Optimizador"
   ]
  },
  {
   "cell_type": "code",
   "execution_count": 56,
   "metadata": {},
   "outputs": [],
   "source": [
    "optimizer = torch.optim.SGD(model.parameters(), lr=0.01)"
   ]
  },
  {
   "attachments": {},
   "cell_type": "markdown",
   "metadata": {},
   "source": [
    "##### Entrenamiento"
   ]
  },
  {
   "cell_type": "code",
   "execution_count": 57,
   "metadata": {},
   "outputs": [
    {
     "name": "stdout",
     "output_type": "stream",
     "text": [
      "Epoch 0 - Training loss: 2.203207279319194\n",
      "Epoch 1 - Training loss: 1.911901912836632\n",
      "Epoch 2 - Training loss: 1.592931249121359\n",
      "Epoch 3 - Training loss: 1.3296696162427157\n",
      "Epoch 4 - Training loss: 1.1346284496123349\n",
      "Epoch 5 - Training loss: 0.9894764879619135\n",
      "Epoch 6 - Training loss: 0.8781169454044879\n",
      "Epoch 7 - Training loss: 0.7907402814705489\n",
      "Epoch 8 - Training loss: 0.7212570596224209\n",
      "Epoch 9 - Training loss: 0.6655301541280645\n"
     ]
    }
   ],
   "source": [
    "for e in range(EPOCHS):\n",
    "    running_loss = 0\n",
    "    for images, labels in xy_train_loader:\n",
    "        images = images.view(images.shape[0], -1) # Aplanar las imágenes\n",
    "        output = model(images)\n",
    "        loss = criterion(output, labels) # Calcular error\n",
    "        loss.backward()                  # Calcular gradientes\n",
    "        optimizer.step()                 # Actualizar pesos usando el gradiente\n",
    "        optimizer.zero_grad()            # Colocar a cero los gradientes nuevamente\n",
    "        running_loss += loss.item()\n",
    "    print(\"Epoch {} - Training loss: {}\".format(e, running_loss/len(xy_train_loader)))"
   ]
  },
  {
   "attachments": {},
   "cell_type": "markdown",
   "metadata": {},
   "source": [
    "#### Evaluar el Modelo"
   ]
  },
  {
   "cell_type": "code",
   "execution_count": 58,
   "metadata": {},
   "outputs": [
    {
     "name": "stdout",
     "output_type": "stream",
     "text": [
      "\\Accuracy of the model =  0.8728\n"
     ]
    }
   ],
   "source": [
    "xy_test = torchvision.datasets.MNIST(root=r'C:\\Users\\USER\\Pictures\\DeepLearningDatabases', train=False, download=True, transform=torchvision.transforms.ToTensor())\n",
    "xy_test_loader = torch.utils.data.DataLoader(xy_test, batch_size=BATCH_SIZE, shuffle=True)\n",
    "correct_count, all_count = 0, 0\n",
    "\n",
    "for images, labels in xy_test_loader: # Iterar sobre cada batch\n",
    "    for i in range(len(labels)): # Iterar sobre cada imagen en el batch\n",
    "        img = images[i].view(1, 784)\n",
    "        logps = model(img)\n",
    "        ps = torch.exp(logps)               # Debido a que se usó 'LogSoftmax' en la salida, se debe usar 'exp' para obtener las probabilidades\n",
    "        probab = list(ps.detach().numpy()[0]) # Convertir de tensor a lista\n",
    "        pred_label = probab.index(max(probab)) # Obtener el índice del valor más alto (o sea el número predicho)\n",
    "        true_label = labels.numpy()[i]\n",
    "        if true_label == pred_label:\n",
    "            correct_count += 1\n",
    "        all_count += 1\n",
    "print(\"\\Accuracy of the model = \", correct_count/all_count)"
   ]
  },
  {
   "cell_type": "code",
   "execution_count": null,
   "metadata": {},
   "outputs": [],
   "source": []
  }
 ],
 "metadata": {
  "kernelspec": {
   "display_name": "Python 3",
   "language": "python",
   "name": "python3"
  },
  "language_info": {
   "codemirror_mode": {
    "name": "ipython",
    "version": 3
   },
   "file_extension": ".py",
   "mimetype": "text/x-python",
   "name": "python",
   "nbconvert_exporter": "python",
   "pygments_lexer": "ipython3",
   "version": "3.8.7"
  },
  "orig_nbformat": 4
 },
 "nbformat": 4,
 "nbformat_minor": 2
}
